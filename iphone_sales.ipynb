{
 "cells": [
  {
   "cell_type": "code",
   "execution_count": 1,
   "metadata": {},
   "outputs": [],
   "source": [
    "import numpy as np\n",
    "import pandas as pd\n",
    "import csv\n",
    "import seaborn as sns\n",
    "import matplotlib.pyplot as plt"
   ]
  },
  {
   "cell_type": "code",
   "execution_count": 2,
   "metadata": {},
   "outputs": [
    {
     "data": {
      "application/vnd.microsoft.datawrangler.viewer.v0+json": {
       "columns": [
        {
         "name": "index",
         "rawType": "int64",
         "type": "integer"
        },
        {
         "name": "Name",
         "rawType": "object",
         "type": "string"
        },
        {
         "name": "Email",
         "rawType": "object",
         "type": "string"
        },
        {
         "name": "Product",
         "rawType": "object",
         "type": "string"
        },
        {
         "name": "Transaction Date",
         "rawType": "object",
         "type": "string"
        }
       ],
       "conversionMethod": "pd.DataFrame",
       "ref": "28425c01-730f-4fae-a3ac-2c213fe8a6f6",
       "rows": [
        [
         "0",
         "PERSON_1",
         "PERSON_1@gmail.com",
         "PRODUCT_75",
         "01/03/2021 00:47:26"
        ],
        [
         "1",
         "PERSON_2",
         "PERSON_2@tataprojects.com",
         "PRODUCT_75",
         "01/03/2021 02:04:07"
        ],
        [
         "2",
         "PERSON_3",
         "PERSON_3@gmail.com",
         "PRODUCT_63",
         "01/03/2021 09:10:43"
        ],
        [
         "3",
         "PERSON_4",
         "PERSON_4@gmail.com",
         "PRODUCT_63",
         "01/03/2021 09:49:48"
        ],
        [
         "4",
         "PERSON_5",
         "PERSON_5@gmail.com",
         "PRODUCT_34,PRODUCT_86,PRODUCT_57,PRODUCT_89",
         "01/03/2021 10:56:46"
        ],
        [
         "5",
         "PERSON_6",
         "PERSON_6@gmail.com",
         "PRODUCT_34,PRODUCT_66,PRODUCT_58,PRODUCT_83",
         "01/03/2021 11:06:34"
        ],
        [
         "6",
         "PERSON_7",
         "PERSON_7@gmail.com",
         "PRODUCT_75",
         "01/03/2021 12:02:00"
        ],
        [
         "7",
         "PERSON_8",
         "PERSON_8@gmail.com",
         "PRODUCT_63,PRODUCT_90,PRODUCT_27,PRODUCT_5",
         "01/03/2021 12:31:10"
        ],
        [
         "8",
         "PERSON_9",
         "PERSON_9@outlook.com",
         "PRODUCT_26",
         "01/03/2021 12:51:46"
        ],
        [
         "9",
         "PERSON_10",
         "PERSON_10@gmail.com",
         "PRODUCT_63",
         "01/03/2021 12:52:29"
        ],
        [
         "10",
         "PERSON_11",
         "PERSON_11@gmail.com",
         "PRODUCT_63",
         "01/03/2021 13:15:39"
        ],
        [
         "11",
         "PERSON_12",
         "PERSON_12@gmail.com",
         "PRODUCT_5,PRODUCT_34",
         "01/03/2021 13:37:45"
        ],
        [
         "12",
         "PERSON_13",
         "PERSON_13@gmail.com",
         "PRODUCT_84,PRODUCT_27",
         "01/03/2021 14:17:44"
        ],
        [
         "13",
         "PERSON_14",
         "PERSON_14@gmail.com",
         "PRODUCT_27",
         "01/03/2021 14:27:49"
        ],
        [
         "14",
         "PERSON_15",
         "PERSON_15@gmail.com",
         "PRODUCT_25",
         "01/03/2021 14:37:16"
        ],
        [
         "15",
         "PERSON_16",
         "PERSON_16@gmail.com",
         "PRODUCT_75",
         "01/03/2021 14:56:02"
        ],
        [
         "16",
         "PERSON_17",
         "PERSON_17@gmail.com",
         "PRODUCT_84",
         "01/03/2021 15:03:28"
        ],
        [
         "17",
         "PERSON_18",
         "PERSON_18@gmail.com",
         "PRODUCT_34",
         "01/03/2021 15:08:10"
        ],
        [
         "18",
         "PERSON_19",
         "PERSON_19@gmail.com",
         "PRODUCT_85",
         "01/03/2021 15:48:41"
        ],
        [
         "19",
         "PERSON_20",
         "PERSON_20@gmail.com",
         "PRODUCT_63,PRODUCT_75",
         "01/03/2021 17:11:37"
        ],
        [
         "20",
         "PERSON_21",
         "PERSON_21@gmail.com",
         "PRODUCT_75",
         "01/03/2021 17:33:52"
        ],
        [
         "21",
         "PERSON_22",
         "PERSON_22@gmail.com",
         "PRODUCT_27,PRODUCT_75",
         "01/03/2021 17:34:01"
        ],
        [
         "22",
         "PERSON_23",
         "PERSON_23@gmail.com",
         "PRODUCT_63",
         "01/03/2021 17:38:07"
        ],
        [
         "23",
         "PERSON_24",
         "PERSON_24@kamalmotors.co.in",
         "PRODUCT_63",
         "01/03/2021 17:53:28"
        ],
        [
         "24",
         "PERSON_25",
         "PERSON_25@gmail.com",
         "PRODUCT_25",
         "01/03/2021 18:09:43"
        ],
        [
         "25",
         "PERSON_26",
         "PERSON_26@yahoo.com",
         "PRODUCT_63",
         "01/03/2021 18:12:02"
        ],
        [
         "26",
         "PERSON_27",
         "PERSON_27@gmail.com",
         "PRODUCT_75",
         "01/03/2021 18:12:19"
        ],
        [
         "27",
         "PERSON_28",
         "PERSON_28@gmail.com",
         "PRODUCT_63,PRODUCT_27",
         "01/03/2021 18:43:55"
        ],
        [
         "28",
         "PERSON_29",
         "PERSON_29@gmail.com",
         "PRODUCT_27,PRODUCT_25",
         "01/03/2021 19:14:19"
        ],
        [
         "29",
         "PERSON_30",
         "PERSON_30@gmail.com",
         "PRODUCT_63",
         "01/03/2021 19:29:24"
        ],
        [
         "30",
         "PERSON_31",
         "PERSON_31@gmail.com",
         "PRODUCT_26,PRODUCT_24,PRODUCT_34",
         "01/03/2021 20:37:42"
        ],
        [
         "31",
         "PERSON_32",
         "PERSON_32@gmail.com",
         "PRODUCT_75",
         "01/03/2021 22:13:12"
        ],
        [
         "32",
         "PERSON_33",
         "PERSON_33@gmail.com",
         "PRODUCT_72,PRODUCT_27,PRODUCT_63,PRODUCT_90",
         "01/03/2021 22:29:29"
        ],
        [
         "33",
         "PERSON_34",
         "PERSON_34@gmail.com",
         "PRODUCT_63",
         "01/03/2021 22:34:16"
        ],
        [
         "34",
         "PERSON_35",
         "PERSON_35@ntpc.co.in",
         "PRODUCT_75",
         "01/03/2021 22:43:37"
        ],
        [
         "35",
         "PERSON_35",
         "PERSON_35@ntpc.co.in",
         "PRODUCT_57,PRODUCT_90,PRODUCT_66,PRODUCT_58,PRODUCT_24,PRODUCT_83",
         "01/03/2021 22:50:54"
        ],
        [
         "36",
         "PERSON_36",
         "PERSON_36@yahoo.com",
         "PRODUCT_84,PRODUCT_68",
         "01/03/2021 23:19:15"
        ],
        [
         "37",
         "PERSON_37",
         "PERSON_37@gmail.com",
         "PRODUCT_27",
         "01/03/2021 23:25:16"
        ],
        [
         "38",
         "PERSON_38",
         "PERSON_38@rediffmail.com",
         "PRODUCT_72,PRODUCT_34,PRODUCT_78",
         "02/03/2021 00:04:23"
        ],
        [
         "39",
         "PERSON_39",
         "PERSON_39@gmail.com",
         "PRODUCT_25",
         "02/03/2021 00:12:05"
        ],
        [
         "40",
         "PERSON_40",
         "PERSON_40@gmail.com",
         "PRODUCT_25",
         "02/03/2021 01:38:42"
        ],
        [
         "41",
         "PERSON_41",
         "PERSON_41@gmail.com",
         "PRODUCT_34",
         "02/03/2021 02:59:59"
        ],
        [
         "42",
         "PERSON_42",
         "PERSON_42@gmail.com",
         "PRODUCT_25",
         "02/03/2021 08:11:21"
        ],
        [
         "43",
         "PERSON_43",
         "PERSON_43@gmail.com",
         "PRODUCT_26,PRODUCT_83,PRODUCT_66,PRODUCT_72",
         "02/03/2021 09:30:42"
        ],
        [
         "44",
         "PERSON_44",
         "PERSON_44@gmail.com",
         "PRODUCT_25",
         "02/03/2021 10:12:27"
        ],
        [
         "45",
         "PERSON_45",
         "PERSON_45@gmail.com",
         "PRODUCT_76",
         "02/03/2021 10:15:40"
        ],
        [
         "46",
         "PERSON_45",
         "PERSON_45@gmail.com",
         "PRODUCT_72",
         "02/03/2021 10:43:13"
        ],
        [
         "47",
         "PERSON_46",
         "PERSON_46@gmail.com",
         "PRODUCT_25",
         "02/03/2021 12:26:27"
        ],
        [
         "48",
         "PERSON_47",
         "PERSON_47@gmail.com",
         "PRODUCT_75",
         "02/03/2021 12:37:27"
        ],
        [
         "49",
         "PERSON_48",
         "PERSON_48@gmail.com",
         "PRODUCT_75,PRODUCT_27",
         "02/03/2021 12:53:57"
        ]
       ],
       "shape": {
        "columns": 4,
        "rows": 581
       }
      },
      "text/html": [
       "<div>\n",
       "<style scoped>\n",
       "    .dataframe tbody tr th:only-of-type {\n",
       "        vertical-align: middle;\n",
       "    }\n",
       "\n",
       "    .dataframe tbody tr th {\n",
       "        vertical-align: top;\n",
       "    }\n",
       "\n",
       "    .dataframe thead th {\n",
       "        text-align: right;\n",
       "    }\n",
       "</style>\n",
       "<table border=\"1\" class=\"dataframe\">\n",
       "  <thead>\n",
       "    <tr style=\"text-align: right;\">\n",
       "      <th></th>\n",
       "      <th>Name</th>\n",
       "      <th>Email</th>\n",
       "      <th>Product</th>\n",
       "      <th>Transaction Date</th>\n",
       "    </tr>\n",
       "  </thead>\n",
       "  <tbody>\n",
       "    <tr>\n",
       "      <th>0</th>\n",
       "      <td>PERSON_1</td>\n",
       "      <td>PERSON_1@gmail.com</td>\n",
       "      <td>PRODUCT_75</td>\n",
       "      <td>01/03/2021 00:47:26</td>\n",
       "    </tr>\n",
       "    <tr>\n",
       "      <th>1</th>\n",
       "      <td>PERSON_2</td>\n",
       "      <td>PERSON_2@tataprojects.com</td>\n",
       "      <td>PRODUCT_75</td>\n",
       "      <td>01/03/2021 02:04:07</td>\n",
       "    </tr>\n",
       "    <tr>\n",
       "      <th>2</th>\n",
       "      <td>PERSON_3</td>\n",
       "      <td>PERSON_3@gmail.com</td>\n",
       "      <td>PRODUCT_63</td>\n",
       "      <td>01/03/2021 09:10:43</td>\n",
       "    </tr>\n",
       "    <tr>\n",
       "      <th>3</th>\n",
       "      <td>PERSON_4</td>\n",
       "      <td>PERSON_4@gmail.com</td>\n",
       "      <td>PRODUCT_63</td>\n",
       "      <td>01/03/2021 09:49:48</td>\n",
       "    </tr>\n",
       "    <tr>\n",
       "      <th>4</th>\n",
       "      <td>PERSON_5</td>\n",
       "      <td>PERSON_5@gmail.com</td>\n",
       "      <td>PRODUCT_34,PRODUCT_86,PRODUCT_57,PRODUCT_89</td>\n",
       "      <td>01/03/2021 10:56:46</td>\n",
       "    </tr>\n",
       "    <tr>\n",
       "      <th>...</th>\n",
       "      <td>...</td>\n",
       "      <td>...</td>\n",
       "      <td>...</td>\n",
       "      <td>...</td>\n",
       "    </tr>\n",
       "    <tr>\n",
       "      <th>576</th>\n",
       "      <td>PERSON_522</td>\n",
       "      <td>PERSON_522@gmail.com</td>\n",
       "      <td>PRODUCT_48,PRODUCT_80,PRODUCT_71,PRODUCT_68,PR...</td>\n",
       "      <td>07/03/2021 23:53:03</td>\n",
       "    </tr>\n",
       "    <tr>\n",
       "      <th>577</th>\n",
       "      <td>PERSON_523</td>\n",
       "      <td>PERSON_523@gmail.com</td>\n",
       "      <td>PRODUCT_8</td>\n",
       "      <td>07/03/2021 23:55:01</td>\n",
       "    </tr>\n",
       "    <tr>\n",
       "      <th>578</th>\n",
       "      <td>PERSON_523</td>\n",
       "      <td>PERSON_523@gmail.com</td>\n",
       "      <td>PRODUCT_36,PRODUCT_14,PRODUCT_64,PRODUCT_28,PR...</td>\n",
       "      <td>07/03/2021 23:58:24</td>\n",
       "    </tr>\n",
       "    <tr>\n",
       "      <th>579</th>\n",
       "      <td>PERSON_524</td>\n",
       "      <td>PERSON_524@gmail.com</td>\n",
       "      <td>PRODUCT_75,PRODUCT_71,PRODUCT_86,PRODUCT_63,PR...</td>\n",
       "      <td>07/03/2021 23:59:26</td>\n",
       "    </tr>\n",
       "    <tr>\n",
       "      <th>580</th>\n",
       "      <td>PERSON_525</td>\n",
       "      <td>PERSON_525@gmail.com</td>\n",
       "      <td>PRODUCT_66,PRODUCT_34</td>\n",
       "      <td>07/03/2021 23:59:19</td>\n",
       "    </tr>\n",
       "  </tbody>\n",
       "</table>\n",
       "<p>581 rows × 4 columns</p>\n",
       "</div>"
      ],
      "text/plain": [
       "           Name                      Email  \\\n",
       "0      PERSON_1         PERSON_1@gmail.com   \n",
       "1      PERSON_2  PERSON_2@tataprojects.com   \n",
       "2      PERSON_3         PERSON_3@gmail.com   \n",
       "3      PERSON_4         PERSON_4@gmail.com   \n",
       "4      PERSON_5         PERSON_5@gmail.com   \n",
       "..          ...                        ...   \n",
       "576  PERSON_522       PERSON_522@gmail.com   \n",
       "577  PERSON_523       PERSON_523@gmail.com   \n",
       "578  PERSON_523       PERSON_523@gmail.com   \n",
       "579  PERSON_524       PERSON_524@gmail.com   \n",
       "580  PERSON_525       PERSON_525@gmail.com   \n",
       "\n",
       "                                               Product     Transaction Date  \n",
       "0                                           PRODUCT_75  01/03/2021 00:47:26  \n",
       "1                                           PRODUCT_75  01/03/2021 02:04:07  \n",
       "2                                           PRODUCT_63  01/03/2021 09:10:43  \n",
       "3                                           PRODUCT_63  01/03/2021 09:49:48  \n",
       "4          PRODUCT_34,PRODUCT_86,PRODUCT_57,PRODUCT_89  01/03/2021 10:56:46  \n",
       "..                                                 ...                  ...  \n",
       "576  PRODUCT_48,PRODUCT_80,PRODUCT_71,PRODUCT_68,PR...  07/03/2021 23:53:03  \n",
       "577                                          PRODUCT_8  07/03/2021 23:55:01  \n",
       "578  PRODUCT_36,PRODUCT_14,PRODUCT_64,PRODUCT_28,PR...  07/03/2021 23:58:24  \n",
       "579  PRODUCT_75,PRODUCT_71,PRODUCT_86,PRODUCT_63,PR...  07/03/2021 23:59:26  \n",
       "580                              PRODUCT_66,PRODUCT_34  07/03/2021 23:59:19  \n",
       "\n",
       "[581 rows x 4 columns]"
      ]
     },
     "metadata": {},
     "output_type": "display_data"
    }
   ],
   "source": [
    "path = r'C:\\Users\\user\\.vscode-py\\data\\Order_details(masked).csv'\n",
    "Order_details = pd.read_csv(path)\n",
    "display(Order_details)"
   ]
  },
  {
   "cell_type": "code",
   "execution_count": 3,
   "metadata": {},
   "outputs": [],
   "source": [
    "order_df = Order_details"
   ]
  },
  {
   "cell_type": "code",
   "execution_count": 4,
   "metadata": {},
   "outputs": [
    {
     "data": {
      "application/vnd.microsoft.datawrangler.viewer.v0+json": {
       "columns": [
        {
         "name": "index",
         "rawType": "int64",
         "type": "integer"
        },
        {
         "name": "Name",
         "rawType": "object",
         "type": "string"
        },
        {
         "name": "Email",
         "rawType": "object",
         "type": "string"
        },
        {
         "name": "Product",
         "rawType": "object",
         "type": "string"
        },
        {
         "name": "Transaction Date",
         "rawType": "object",
         "type": "string"
        },
        {
         "name": "Time",
         "rawType": "datetime64[ns]",
         "type": "datetime"
        },
        {
         "name": "Hour",
         "rawType": "int32",
         "type": "integer"
        }
       ],
       "conversionMethod": "pd.DataFrame",
       "ref": "e0346d51-f855-4f54-a534-7886aabb4b9b",
       "rows": [
        [
         "0",
         "PERSON_1",
         "PERSON_1@gmail.com",
         "PRODUCT_75",
         "01/03/2021 00:47:26",
         "2021-01-03 00:47:26",
         "0"
        ],
        [
         "1",
         "PERSON_2",
         "PERSON_2@tataprojects.com",
         "PRODUCT_75",
         "01/03/2021 02:04:07",
         "2021-01-03 02:04:07",
         "2"
        ],
        [
         "2",
         "PERSON_3",
         "PERSON_3@gmail.com",
         "PRODUCT_63",
         "01/03/2021 09:10:43",
         "2021-01-03 09:10:43",
         "9"
        ],
        [
         "3",
         "PERSON_4",
         "PERSON_4@gmail.com",
         "PRODUCT_63",
         "01/03/2021 09:49:48",
         "2021-01-03 09:49:48",
         "9"
        ],
        [
         "4",
         "PERSON_5",
         "PERSON_5@gmail.com",
         "PRODUCT_34,PRODUCT_86,PRODUCT_57,PRODUCT_89",
         "01/03/2021 10:56:46",
         "2021-01-03 10:56:46",
         "10"
        ],
        [
         "5",
         "PERSON_6",
         "PERSON_6@gmail.com",
         "PRODUCT_34,PRODUCT_66,PRODUCT_58,PRODUCT_83",
         "01/03/2021 11:06:34",
         "2021-01-03 11:06:34",
         "11"
        ],
        [
         "6",
         "PERSON_7",
         "PERSON_7@gmail.com",
         "PRODUCT_75",
         "01/03/2021 12:02:00",
         "2021-01-03 12:02:00",
         "12"
        ],
        [
         "7",
         "PERSON_8",
         "PERSON_8@gmail.com",
         "PRODUCT_63,PRODUCT_90,PRODUCT_27,PRODUCT_5",
         "01/03/2021 12:31:10",
         "2021-01-03 12:31:10",
         "12"
        ],
        [
         "8",
         "PERSON_9",
         "PERSON_9@outlook.com",
         "PRODUCT_26",
         "01/03/2021 12:51:46",
         "2021-01-03 12:51:46",
         "12"
        ],
        [
         "9",
         "PERSON_10",
         "PERSON_10@gmail.com",
         "PRODUCT_63",
         "01/03/2021 12:52:29",
         "2021-01-03 12:52:29",
         "12"
        ],
        [
         "10",
         "PERSON_11",
         "PERSON_11@gmail.com",
         "PRODUCT_63",
         "01/03/2021 13:15:39",
         "2021-01-03 13:15:39",
         "13"
        ],
        [
         "11",
         "PERSON_12",
         "PERSON_12@gmail.com",
         "PRODUCT_5,PRODUCT_34",
         "01/03/2021 13:37:45",
         "2021-01-03 13:37:45",
         "13"
        ],
        [
         "12",
         "PERSON_13",
         "PERSON_13@gmail.com",
         "PRODUCT_84,PRODUCT_27",
         "01/03/2021 14:17:44",
         "2021-01-03 14:17:44",
         "14"
        ],
        [
         "13",
         "PERSON_14",
         "PERSON_14@gmail.com",
         "PRODUCT_27",
         "01/03/2021 14:27:49",
         "2021-01-03 14:27:49",
         "14"
        ],
        [
         "14",
         "PERSON_15",
         "PERSON_15@gmail.com",
         "PRODUCT_25",
         "01/03/2021 14:37:16",
         "2021-01-03 14:37:16",
         "14"
        ],
        [
         "15",
         "PERSON_16",
         "PERSON_16@gmail.com",
         "PRODUCT_75",
         "01/03/2021 14:56:02",
         "2021-01-03 14:56:02",
         "14"
        ],
        [
         "16",
         "PERSON_17",
         "PERSON_17@gmail.com",
         "PRODUCT_84",
         "01/03/2021 15:03:28",
         "2021-01-03 15:03:28",
         "15"
        ],
        [
         "17",
         "PERSON_18",
         "PERSON_18@gmail.com",
         "PRODUCT_34",
         "01/03/2021 15:08:10",
         "2021-01-03 15:08:10",
         "15"
        ],
        [
         "18",
         "PERSON_19",
         "PERSON_19@gmail.com",
         "PRODUCT_85",
         "01/03/2021 15:48:41",
         "2021-01-03 15:48:41",
         "15"
        ],
        [
         "19",
         "PERSON_20",
         "PERSON_20@gmail.com",
         "PRODUCT_63,PRODUCT_75",
         "01/03/2021 17:11:37",
         "2021-01-03 17:11:37",
         "17"
        ],
        [
         "20",
         "PERSON_21",
         "PERSON_21@gmail.com",
         "PRODUCT_75",
         "01/03/2021 17:33:52",
         "2021-01-03 17:33:52",
         "17"
        ],
        [
         "21",
         "PERSON_22",
         "PERSON_22@gmail.com",
         "PRODUCT_27,PRODUCT_75",
         "01/03/2021 17:34:01",
         "2021-01-03 17:34:01",
         "17"
        ],
        [
         "22",
         "PERSON_23",
         "PERSON_23@gmail.com",
         "PRODUCT_63",
         "01/03/2021 17:38:07",
         "2021-01-03 17:38:07",
         "17"
        ],
        [
         "23",
         "PERSON_24",
         "PERSON_24@kamalmotors.co.in",
         "PRODUCT_63",
         "01/03/2021 17:53:28",
         "2021-01-03 17:53:28",
         "17"
        ],
        [
         "24",
         "PERSON_25",
         "PERSON_25@gmail.com",
         "PRODUCT_25",
         "01/03/2021 18:09:43",
         "2021-01-03 18:09:43",
         "18"
        ],
        [
         "25",
         "PERSON_26",
         "PERSON_26@yahoo.com",
         "PRODUCT_63",
         "01/03/2021 18:12:02",
         "2021-01-03 18:12:02",
         "18"
        ],
        [
         "26",
         "PERSON_27",
         "PERSON_27@gmail.com",
         "PRODUCT_75",
         "01/03/2021 18:12:19",
         "2021-01-03 18:12:19",
         "18"
        ],
        [
         "27",
         "PERSON_28",
         "PERSON_28@gmail.com",
         "PRODUCT_63,PRODUCT_27",
         "01/03/2021 18:43:55",
         "2021-01-03 18:43:55",
         "18"
        ],
        [
         "28",
         "PERSON_29",
         "PERSON_29@gmail.com",
         "PRODUCT_27,PRODUCT_25",
         "01/03/2021 19:14:19",
         "2021-01-03 19:14:19",
         "19"
        ],
        [
         "29",
         "PERSON_30",
         "PERSON_30@gmail.com",
         "PRODUCT_63",
         "01/03/2021 19:29:24",
         "2021-01-03 19:29:24",
         "19"
        ],
        [
         "30",
         "PERSON_31",
         "PERSON_31@gmail.com",
         "PRODUCT_26,PRODUCT_24,PRODUCT_34",
         "01/03/2021 20:37:42",
         "2021-01-03 20:37:42",
         "20"
        ],
        [
         "31",
         "PERSON_32",
         "PERSON_32@gmail.com",
         "PRODUCT_75",
         "01/03/2021 22:13:12",
         "2021-01-03 22:13:12",
         "22"
        ],
        [
         "32",
         "PERSON_33",
         "PERSON_33@gmail.com",
         "PRODUCT_72,PRODUCT_27,PRODUCT_63,PRODUCT_90",
         "01/03/2021 22:29:29",
         "2021-01-03 22:29:29",
         "22"
        ],
        [
         "33",
         "PERSON_34",
         "PERSON_34@gmail.com",
         "PRODUCT_63",
         "01/03/2021 22:34:16",
         "2021-01-03 22:34:16",
         "22"
        ],
        [
         "34",
         "PERSON_35",
         "PERSON_35@ntpc.co.in",
         "PRODUCT_75",
         "01/03/2021 22:43:37",
         "2021-01-03 22:43:37",
         "22"
        ],
        [
         "35",
         "PERSON_35",
         "PERSON_35@ntpc.co.in",
         "PRODUCT_57,PRODUCT_90,PRODUCT_66,PRODUCT_58,PRODUCT_24,PRODUCT_83",
         "01/03/2021 22:50:54",
         "2021-01-03 22:50:54",
         "22"
        ],
        [
         "36",
         "PERSON_36",
         "PERSON_36@yahoo.com",
         "PRODUCT_84,PRODUCT_68",
         "01/03/2021 23:19:15",
         "2021-01-03 23:19:15",
         "23"
        ],
        [
         "37",
         "PERSON_37",
         "PERSON_37@gmail.com",
         "PRODUCT_27",
         "01/03/2021 23:25:16",
         "2021-01-03 23:25:16",
         "23"
        ],
        [
         "38",
         "PERSON_38",
         "PERSON_38@rediffmail.com",
         "PRODUCT_72,PRODUCT_34,PRODUCT_78",
         "02/03/2021 00:04:23",
         "2021-02-03 00:04:23",
         "0"
        ],
        [
         "39",
         "PERSON_39",
         "PERSON_39@gmail.com",
         "PRODUCT_25",
         "02/03/2021 00:12:05",
         "2021-02-03 00:12:05",
         "0"
        ],
        [
         "40",
         "PERSON_40",
         "PERSON_40@gmail.com",
         "PRODUCT_25",
         "02/03/2021 01:38:42",
         "2021-02-03 01:38:42",
         "1"
        ],
        [
         "41",
         "PERSON_41",
         "PERSON_41@gmail.com",
         "PRODUCT_34",
         "02/03/2021 02:59:59",
         "2021-02-03 02:59:59",
         "2"
        ],
        [
         "42",
         "PERSON_42",
         "PERSON_42@gmail.com",
         "PRODUCT_25",
         "02/03/2021 08:11:21",
         "2021-02-03 08:11:21",
         "8"
        ],
        [
         "43",
         "PERSON_43",
         "PERSON_43@gmail.com",
         "PRODUCT_26,PRODUCT_83,PRODUCT_66,PRODUCT_72",
         "02/03/2021 09:30:42",
         "2021-02-03 09:30:42",
         "9"
        ],
        [
         "44",
         "PERSON_44",
         "PERSON_44@gmail.com",
         "PRODUCT_25",
         "02/03/2021 10:12:27",
         "2021-02-03 10:12:27",
         "10"
        ],
        [
         "45",
         "PERSON_45",
         "PERSON_45@gmail.com",
         "PRODUCT_76",
         "02/03/2021 10:15:40",
         "2021-02-03 10:15:40",
         "10"
        ],
        [
         "46",
         "PERSON_45",
         "PERSON_45@gmail.com",
         "PRODUCT_72",
         "02/03/2021 10:43:13",
         "2021-02-03 10:43:13",
         "10"
        ],
        [
         "47",
         "PERSON_46",
         "PERSON_46@gmail.com",
         "PRODUCT_25",
         "02/03/2021 12:26:27",
         "2021-02-03 12:26:27",
         "12"
        ],
        [
         "48",
         "PERSON_47",
         "PERSON_47@gmail.com",
         "PRODUCT_75",
         "02/03/2021 12:37:27",
         "2021-02-03 12:37:27",
         "12"
        ],
        [
         "49",
         "PERSON_48",
         "PERSON_48@gmail.com",
         "PRODUCT_75,PRODUCT_27",
         "02/03/2021 12:53:57",
         "2021-02-03 12:53:57",
         "12"
        ]
       ],
       "shape": {
        "columns": 6,
        "rows": 581
       }
      },
      "text/html": [
       "<div>\n",
       "<style scoped>\n",
       "    .dataframe tbody tr th:only-of-type {\n",
       "        vertical-align: middle;\n",
       "    }\n",
       "\n",
       "    .dataframe tbody tr th {\n",
       "        vertical-align: top;\n",
       "    }\n",
       "\n",
       "    .dataframe thead th {\n",
       "        text-align: right;\n",
       "    }\n",
       "</style>\n",
       "<table border=\"1\" class=\"dataframe\">\n",
       "  <thead>\n",
       "    <tr style=\"text-align: right;\">\n",
       "      <th></th>\n",
       "      <th>Name</th>\n",
       "      <th>Email</th>\n",
       "      <th>Product</th>\n",
       "      <th>Transaction Date</th>\n",
       "      <th>Time</th>\n",
       "      <th>Hour</th>\n",
       "    </tr>\n",
       "  </thead>\n",
       "  <tbody>\n",
       "    <tr>\n",
       "      <th>0</th>\n",
       "      <td>PERSON_1</td>\n",
       "      <td>PERSON_1@gmail.com</td>\n",
       "      <td>PRODUCT_75</td>\n",
       "      <td>01/03/2021 00:47:26</td>\n",
       "      <td>2021-01-03 00:47:26</td>\n",
       "      <td>0</td>\n",
       "    </tr>\n",
       "    <tr>\n",
       "      <th>1</th>\n",
       "      <td>PERSON_2</td>\n",
       "      <td>PERSON_2@tataprojects.com</td>\n",
       "      <td>PRODUCT_75</td>\n",
       "      <td>01/03/2021 02:04:07</td>\n",
       "      <td>2021-01-03 02:04:07</td>\n",
       "      <td>2</td>\n",
       "    </tr>\n",
       "    <tr>\n",
       "      <th>2</th>\n",
       "      <td>PERSON_3</td>\n",
       "      <td>PERSON_3@gmail.com</td>\n",
       "      <td>PRODUCT_63</td>\n",
       "      <td>01/03/2021 09:10:43</td>\n",
       "      <td>2021-01-03 09:10:43</td>\n",
       "      <td>9</td>\n",
       "    </tr>\n",
       "    <tr>\n",
       "      <th>3</th>\n",
       "      <td>PERSON_4</td>\n",
       "      <td>PERSON_4@gmail.com</td>\n",
       "      <td>PRODUCT_63</td>\n",
       "      <td>01/03/2021 09:49:48</td>\n",
       "      <td>2021-01-03 09:49:48</td>\n",
       "      <td>9</td>\n",
       "    </tr>\n",
       "    <tr>\n",
       "      <th>4</th>\n",
       "      <td>PERSON_5</td>\n",
       "      <td>PERSON_5@gmail.com</td>\n",
       "      <td>PRODUCT_34,PRODUCT_86,PRODUCT_57,PRODUCT_89</td>\n",
       "      <td>01/03/2021 10:56:46</td>\n",
       "      <td>2021-01-03 10:56:46</td>\n",
       "      <td>10</td>\n",
       "    </tr>\n",
       "    <tr>\n",
       "      <th>...</th>\n",
       "      <td>...</td>\n",
       "      <td>...</td>\n",
       "      <td>...</td>\n",
       "      <td>...</td>\n",
       "      <td>...</td>\n",
       "      <td>...</td>\n",
       "    </tr>\n",
       "    <tr>\n",
       "      <th>576</th>\n",
       "      <td>PERSON_522</td>\n",
       "      <td>PERSON_522@gmail.com</td>\n",
       "      <td>PRODUCT_48,PRODUCT_80,PRODUCT_71,PRODUCT_68,PR...</td>\n",
       "      <td>07/03/2021 23:53:03</td>\n",
       "      <td>2021-07-03 23:53:03</td>\n",
       "      <td>23</td>\n",
       "    </tr>\n",
       "    <tr>\n",
       "      <th>577</th>\n",
       "      <td>PERSON_523</td>\n",
       "      <td>PERSON_523@gmail.com</td>\n",
       "      <td>PRODUCT_8</td>\n",
       "      <td>07/03/2021 23:55:01</td>\n",
       "      <td>2021-07-03 23:55:01</td>\n",
       "      <td>23</td>\n",
       "    </tr>\n",
       "    <tr>\n",
       "      <th>578</th>\n",
       "      <td>PERSON_523</td>\n",
       "      <td>PERSON_523@gmail.com</td>\n",
       "      <td>PRODUCT_36,PRODUCT_14,PRODUCT_64,PRODUCT_28,PR...</td>\n",
       "      <td>07/03/2021 23:58:24</td>\n",
       "      <td>2021-07-03 23:58:24</td>\n",
       "      <td>23</td>\n",
       "    </tr>\n",
       "    <tr>\n",
       "      <th>579</th>\n",
       "      <td>PERSON_524</td>\n",
       "      <td>PERSON_524@gmail.com</td>\n",
       "      <td>PRODUCT_75,PRODUCT_71,PRODUCT_86,PRODUCT_63,PR...</td>\n",
       "      <td>07/03/2021 23:59:26</td>\n",
       "      <td>2021-07-03 23:59:26</td>\n",
       "      <td>23</td>\n",
       "    </tr>\n",
       "    <tr>\n",
       "      <th>580</th>\n",
       "      <td>PERSON_525</td>\n",
       "      <td>PERSON_525@gmail.com</td>\n",
       "      <td>PRODUCT_66,PRODUCT_34</td>\n",
       "      <td>07/03/2021 23:59:19</td>\n",
       "      <td>2021-07-03 23:59:19</td>\n",
       "      <td>23</td>\n",
       "    </tr>\n",
       "  </tbody>\n",
       "</table>\n",
       "<p>581 rows × 6 columns</p>\n",
       "</div>"
      ],
      "text/plain": [
       "           Name                      Email  \\\n",
       "0      PERSON_1         PERSON_1@gmail.com   \n",
       "1      PERSON_2  PERSON_2@tataprojects.com   \n",
       "2      PERSON_3         PERSON_3@gmail.com   \n",
       "3      PERSON_4         PERSON_4@gmail.com   \n",
       "4      PERSON_5         PERSON_5@gmail.com   \n",
       "..          ...                        ...   \n",
       "576  PERSON_522       PERSON_522@gmail.com   \n",
       "577  PERSON_523       PERSON_523@gmail.com   \n",
       "578  PERSON_523       PERSON_523@gmail.com   \n",
       "579  PERSON_524       PERSON_524@gmail.com   \n",
       "580  PERSON_525       PERSON_525@gmail.com   \n",
       "\n",
       "                                               Product     Transaction Date  \\\n",
       "0                                           PRODUCT_75  01/03/2021 00:47:26   \n",
       "1                                           PRODUCT_75  01/03/2021 02:04:07   \n",
       "2                                           PRODUCT_63  01/03/2021 09:10:43   \n",
       "3                                           PRODUCT_63  01/03/2021 09:49:48   \n",
       "4          PRODUCT_34,PRODUCT_86,PRODUCT_57,PRODUCT_89  01/03/2021 10:56:46   \n",
       "..                                                 ...                  ...   \n",
       "576  PRODUCT_48,PRODUCT_80,PRODUCT_71,PRODUCT_68,PR...  07/03/2021 23:53:03   \n",
       "577                                          PRODUCT_8  07/03/2021 23:55:01   \n",
       "578  PRODUCT_36,PRODUCT_14,PRODUCT_64,PRODUCT_28,PR...  07/03/2021 23:58:24   \n",
       "579  PRODUCT_75,PRODUCT_71,PRODUCT_86,PRODUCT_63,PR...  07/03/2021 23:59:26   \n",
       "580                              PRODUCT_66,PRODUCT_34  07/03/2021 23:59:19   \n",
       "\n",
       "                   Time  Hour  \n",
       "0   2021-01-03 00:47:26     0  \n",
       "1   2021-01-03 02:04:07     2  \n",
       "2   2021-01-03 09:10:43     9  \n",
       "3   2021-01-03 09:49:48     9  \n",
       "4   2021-01-03 10:56:46    10  \n",
       "..                  ...   ...  \n",
       "576 2021-07-03 23:53:03    23  \n",
       "577 2021-07-03 23:55:01    23  \n",
       "578 2021-07-03 23:58:24    23  \n",
       "579 2021-07-03 23:59:26    23  \n",
       "580 2021-07-03 23:59:19    23  \n",
       "\n",
       "[581 rows x 6 columns]"
      ]
     },
     "metadata": {},
     "output_type": "display_data"
    }
   ],
   "source": [
    "order_df['Time'] = pd.to_datetime(order_df['Transaction Date'])\n",
    "order_df['Hour'] = (order_df['Time']).dt.hour\n",
    "    \n",
    "    #order_df['Transaction Date'] = pd.to_datetime(order_df['Transaction Date'])\n",
    "#order_df['Hour'] = (order_df['Transaction Date']).dt.hour\n",
    "display(order_df)"
   ]
  },
  {
   "cell_type": "code",
   "execution_count": 5,
   "metadata": {},
   "outputs": [],
   "source": [
    "timemost1 = order_df['Hour'].value_counts().index.tolist()[:24]\n",
    "timemost2= order_df['Hour'].value_counts().values.tolist()[:24]\n"
   ]
  },
  {
   "cell_type": "code",
   "execution_count": 8,
   "metadata": {},
   "outputs": [
    {
     "name": "stdout",
     "output_type": "stream",
     "text": [
      "Hour of Day\tCumulative Number of Purchases \n",
      "\n",
      "12t\t51\n",
      "23t\t51\n",
      "22t\t45\n",
      "19t\t42\n",
      "15t\t41\n",
      "21t\t41\n",
      "20t\t39\n",
      "11t\t37\n",
      "13t\t33\n",
      "18t\t33\n",
      "16t\t29\n",
      "14t\t28\n",
      "17t\t27\n",
      "10t\t24\n",
      "0t\t17\n",
      "9t\t14\n",
      "8t\t10\n",
      "7t\t6\n",
      "1t\t4\n",
      "2t\t3\n",
      "5t\t3\n",
      "6t\t2\n",
      "3t\t1\n"
     ]
    }
   ],
   "source": [
    "tmost = np.column_stack((timemost1,timemost2))\n",
    "\n",
    "print(\"Hour of Day\" + \"\\t\" + \"Cumulative Number of Purchases \\n\")\n",
    "print('\\n'.join('t\\t'.join(map(str,row)) for row in tmost))"
   ]
  },
  {
   "cell_type": "code",
   "execution_count": 10,
   "metadata": {},
   "outputs": [],
   "source": [
    "timemost = order_df['Hour'].value_counts()\n",
    "timemost1 = []\n",
    "\n",
    "for i in range(0,23):\n",
    "    timemost1.append(i)\n",
    "\n",
    "timemost2 = timemost.sort_index()\n",
    "timemost2.tolist()\n",
    "timemost2 = pd.DataFrame(timemost2)"
   ]
  },
  {
   "cell_type": "code",
   "execution_count": 12,
   "metadata": {},
   "outputs": [
    {
     "data": {
      "image/png": "[encoded data removed]",
      "text/plain": [
       "<Figure size 1200x800 with 1 Axes>"
      ]
     },
     "metadata": {},
     "output_type": "display_data"
    }
   ],
   "source": [
    "plt.figure(figsize=(12,8))\n",
    "plt.title('Sales Happening Per Hour (Spread Throughtout the week)')\n",
    "plt.plot(timemost1, timemost2, color = 'm')\n",
    "plt.ylabel(\"Number of Purchases Made\")\n",
    "plt.xlabel(\"Hour\")\n",
    "plt.grid()\n",
    "plt.show()"
   ]
  },
  {
   "cell_type": "markdown",
   "metadata": {},
   "source": [
    "The product is mostly on rises towards the end of the day.\n"
   ]
  }
 ],
 "metadata": {
  "kernelspec": {
   "display_name": "myenv",
   "language": "python",
   "name": "python3"
  },
  "language_info": {
   "codemirror_mode": {
    "name": "ipython",
    "version": 3
   },
   "file_extension": ".py",
   "mimetype": "text/x-python",
   "name": "python",
   "nbconvert_exporter": "python",
   "pygments_lexer": "ipython3",
   "version": "3.11.0"
  }
 },
 "nbformat": 4,
 "nbformat_minor": 2
}
